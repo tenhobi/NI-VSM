{
 "cells": [
  {
   "cell_type": "markdown",
   "metadata": {},
   "source": [
    "# NI-VSM HW 1\n",
    "\n",
    "Tým:\n",
    "\n",
    "- Bittner Jan\n",
    "- Bodnárová Radka\n",
    "- Hošková Radka"
   ]
  },
  {
   "cell_type": "code",
   "execution_count": 1,
   "metadata": {},
   "outputs": [],
   "source": [
    "import math\n",
    "import numpy as np\n",
    "import matplotlib.pyplot as plt\n",
    "from collections import Counter\n",
    "\n",
    "# HW1 settings\n",
    "K = 16\n",
    "L = len(\"Bittner\")\n",
    "X = ((K * L * 23) % 20) + 1\n",
    "Y = ((X + ((K * 5 + L * 7) % 19)) % 20) + 1\n",
    "\n",
    "x_file = str(X).zfill(3) + \".txt\" # file name\n",
    "xx = open(\"../resources/\" + x_file).readlines()[1:][0].replace(\" \", \"␣\") # file content\n",
    "x_len = len(xx) # content length\n",
    "x_chars = Counter(xx) # chars count\n",
    "\n",
    "y_file = str(Y).zfill(3) + \".txt\" # file name\n",
    "yy = open(\"../resources/\" + y_file).readlines()[1:][0].replace(\" \", \"␣\") # file content\n",
    "y_len = len(yy) # content length\n",
    "y_chars = Counter(yy) # chars count"
   ]
  },
  {
   "cell_type": "code",
   "execution_count": 2,
   "metadata": {},
   "outputs": [],
   "source": [
    "# 1 -- odhadnout pst znaků, graficky znázornit\n",
    "\n",
    "# Returns dictionary of char: pst\n",
    "def get_charpst(chars, char_len):\n",
    "    charspst = {}\n",
    "    for char in chars.keys():\n",
    "        char_frequency = chars[char] / char_len\n",
    "        charspst[char] = char_frequency\n",
    "    return {k: charspst[k] for k in sorted(charspst.keys())}\n",
    "\n",
    "# Draws a plot sorted by char and a plot sorted by frequency\n",
    "def draw_double_plot(chars, char_len, caption):\n",
    "    fig, axs = plt.subplots(1, 2, figsize=(15, 3))\n",
    "    fig.suptitle(caption)\n",
    "\n",
    "    x_charfreq = get_charpst(chars, char_len)\n",
    "    bar_x_locations = np.arange(len(x_charfreq))\n",
    "\n",
    "    plt.sca(axs[0])\n",
    "    plt.bar(bar_x_locations, x_charfreq.values(), align = 'center')\n",
    "    plt.xticks(bar_x_locations, x_charfreq.keys())\n",
    "    plt.grid()\n",
    "\n",
    "    plt.sca(axs[1])\n",
    "    x_charfreq = dict(sorted(x_charfreq.items(), key=lambda item: item[1], reverse=True))\n",
    "    bar_x_locations = np.arange(len(x_charfreq))\n",
    "    plt.bar(bar_x_locations, x_charfreq.values(), align = 'center')\n",
    "    plt.xticks(bar_x_locations, x_charfreq.keys())\n",
    "    plt.grid()\n",
    "    plt.show()"
   ]
  },
  {
   "cell_type": "code",
   "execution_count": 3,
   "metadata": {},
   "outputs": [],
   "source": [
    "# 2 -- spočíst entropii\n",
    "\n",
    "# Returns entrophy\n",
    "def get_entropy(chars, char_len):\n",
    "    entropy = 0\n",
    "    for char in chars.keys():\n",
    "        char_frequency = chars[char] / char_len\n",
    "        entropy += (- (char_frequency * math.log(char_frequency, 2)))\n",
    "\n",
    "    return entropy\n",
    "\n",
    "x_entropy = get_entropy(x_chars, x_len)\n",
    "y_entropy = get_entropy(y_chars, y_len)"
   ]
  },
  {
   "cell_type": "code",
   "execution_count": 4,
   "metadata": {},
   "outputs": [],
   "source": [
    "# 3 -- nalézt optimální binární instantní kód C pro kódování znaků PRVNÍHO z textů\n",
    "\n",
    "# Recursively builds code from binary tree\n",
    "def build_encoding_from_tree(tree, code = ''):\n",
    "    # either tuple or string (tree list)\n",
    "    if type(tree) == str:\n",
    "        return {tree: code}\n",
    "\n",
    "    # recursion\n",
    "    left = build_encoding_from_tree(tree[0], code + '1')\n",
    "    right = build_encoding_from_tree(tree[1], code + '0')\n",
    "\n",
    "    # Unpact left and right dicts\n",
    "    return {**left, **right}\n",
    "\n",
    "# Parses char: count dictionary to binary tree\n",
    "def parse_characters_to_tree(chars_counter):\n",
    "    tree = chars_counter.most_common()[::-1]\n",
    "\n",
    "    while len(tree) > 1:\n",
    "        # sort\n",
    "        tree.sort(key=lambda elem: elem[1])\n",
    "\n",
    "        # get first and second worst (that is least common) chars\n",
    "        first_worst = tree[0]\n",
    "        second_worst = tree[1]\n",
    "        rest = tree[2:]\n",
    "\n",
    "        # concat first and second worst chars\n",
    "        # [(char_1, char_2), value_1 + value_2] + rest of the list\n",
    "        tree = [((first_worst[0], second_worst[0]), first_worst[1] + second_worst[1])] + rest\n",
    "\n",
    "    # root of parsed tree\n",
    "    return tree[0][0]\n",
    "\n",
    "# Get encoding map\n",
    "def get_encoding(chars_counter):\n",
    "    return build_encoding_from_tree(parse_characters_to_tree(chars_counter))\n",
    "\n",
    "C = get_encoding(x_chars)"
   ]
  },
  {
   "cell_type": "code",
   "execution_count": 5,
   "metadata": {},
   "outputs": [],
   "source": [
    "# 4 -- pro každý text spočítat střední délku kódu C a porovnat s entropií\n",
    "\n",
    "# Get mean from character frequency dict in an encoding\n",
    "def get_mean(charpst, encoding):\n",
    "    res = 0\n",
    "    for char in charpst:\n",
    "        res += charpst[char] * len(encoding[char])\n",
    "    return res\n",
    "\n",
    "x_mean = str(get_mean(get_charpst(x_chars, x_len), encoding=C))\n",
    "y_mean = str(get_mean(get_charpst(y_chars, y_len), encoding=C))"
   ]
  },
  {
   "cell_type": "code",
   "execution_count": 6,
   "metadata": {},
   "outputs": [
    {
     "data": {
      "image/png": "[encoded data removed]",
      "text/plain": [
       "<Figure size 1080x216 with 2 Axes>"
      ]
     },
     "metadata": {
      "needs_background": "light"
     },
     "output_type": "display_data"
    },
    {
     "data": {
      "image/png": "[encoded data removed]",
      "text/plain": [
       "<Figure size 1080x216 with 2 Axes>"
      ]
     },
     "metadata": {
      "needs_background": "light"
     },
     "output_type": "display_data"
    }
   ],
   "source": [
    "draw_double_plot(x_chars, x_len, x_file)\n",
    "draw_double_plot(y_chars, y_len, y_file)"
   ]
  },
  {
   "cell_type": "markdown",
   "metadata": {},
   "source": [
    "Z grafů výše je patrné,\n",
    "že odhadovaná pravděpodobnost znaků obou textů si je až na pár vyjímek velmi podobná.\n",
    "Nejčetnějším znakem obout textů je mezera, následně znaky `e`, `t`, `a` atd."
   ]
  },
  {
   "cell_type": "code",
   "execution_count": 7,
   "metadata": {},
   "outputs": [
    {
     "name": "stdout",
     "output_type": "stream",
     "text": [
      "Optimálni binární instantní kód C pro první z textů 017.txt\n"
     ]
    },
    {
     "data": {
      "text/plain": [
       "{'m': '11111',\n",
       " 'p': '111101',\n",
       " 'b': '111100',\n",
       " 'r': '1110',\n",
       " 'e': '110',\n",
       " 'h': '1011',\n",
       " 'd': '10101',\n",
       " 'u': '10100',\n",
       " 'n': '1001',\n",
       " 's': '1000',\n",
       " 'i': '0111',\n",
       " 'o': '0110',\n",
       " 'a': '0101',\n",
       " 'g': '010011',\n",
       " 'v': '0100101',\n",
       " 'z': '01001001111',\n",
       " 'q': '01001001110',\n",
       " 'j': '0100100110',\n",
       " 'x': '010010010',\n",
       " 'k': '01001000',\n",
       " 'w': '010001',\n",
       " 'y': '010000',\n",
       " 't': '0011',\n",
       " 'l': '00101',\n",
       " 'c': '001001',\n",
       " 'f': '001000',\n",
       " '␣': '000'}"
      ]
     },
     "execution_count": 7,
     "metadata": {},
     "output_type": "execute_result"
    }
   ],
   "source": [
    "print(f'Optimálni binární instantní kód C pro první z textů {x_file}')\n",
    "C"
   ]
  },
  {
   "cell_type": "code",
   "execution_count": 8,
   "metadata": {},
   "outputs": [
    {
     "name": "stdout",
     "output_type": "stream",
     "text": [
      "Pro 017.txt:\n",
      "L(C) = 4.121329557311073\n",
      "Entropie = 4.0777240009434665\n",
      "\n",
      "Pro 013.txt:\n",
      "L(C) = 4.136199759647483\n",
      "Entropie = 4.095573706179031\n"
     ]
    }
   ],
   "source": [
    "print(f\"Pro {x_file}:\")\n",
    "print(f\"L(C) = {x_mean}\")\n",
    "print(f\"Entropie = \" + str(x_entropy))\n",
    "\n",
    "print()\n",
    "\n",
    "print(f\"Pro {y_file}:\")\n",
    "print(f\"L(C) = {str(get_mean(get_charpst(y_chars, y_len), encoding=C))}\")\n",
    "print(f\"Entropie = \" + str(y_entropy))"
   ]
  },
  {
   "cell_type": "markdown",
   "metadata": {},
   "source": [
    "Jak je vidět z údajů výše,\n",
    "pro oba soubory je entropie souborů menší než střední délka kódu.\n",
    "\n",
    "Současně je toto kódování optimální i pro druhý text,\n",
    "jelikož platí vztah `H_D(Y) <= L(C) < H_D(Y) + 1`."
   ]
  },
  {
   "cell_type": "markdown",
   "metadata": {},
   "source": [
    "V úloze se povedlo analyzovat vstupní texty `013.txt` a `017.txt`,\n",
    "určit četnost jejich znaků,\n",
    "pravděpodobnost jednotlivých znaků,\n",
    "entropii pro dané texty,\n",
    "nálézt optimální binární instantní kód pro kódování znaků prvního z textů\n",
    "a pro každý text spočítat střední délku kódu C a porovnat ji s entropií pro dané texty."
   ]
  }
 ],
 "metadata": {
  "kernelspec": {
   "display_name": "Python 3",
   "language": "python",
   "name": "python3"
  },
  "language_info": {
   "codemirror_mode": {
    "name": "ipython",
    "version": 3
   },
   "file_extension": ".py",
   "mimetype": "text/x-python",
   "name": "python",
   "nbconvert_exporter": "python",
   "pygments_lexer": "ipython3",
   "version": "3.8.5"
  }
 },
 "nbformat": 4,
 "nbformat_minor": 1
}
