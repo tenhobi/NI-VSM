{
  "cells":[
    {
      "cell_type":"markdown",
      "source":[
        "# NI-VSM HW 2\n",
        "\n",
        "Tým:\n",
        "\n",
        "- Bittner Jan\n",
        "- Bodnárová Radka\n",
        "- Hošková Radka"
      ],
      "metadata":{
        
      }
    },
    {
      "cell_type":"code",
      "source":[
        "from collections import Counter\n",
        "\n",
        "import matplotlib.pyplot as plt\n",
        "import numpy as np\n",
        "from scipy import stats\n",
        "import pandas as pd\n",
        "\n",
        "# HW settings\n",
        "K = 16\n",
        "L = len('Bittner')\n",
        "X = ((K * L * 23) % 20) + 1\n",
        "Y = ((X + ((K * 5 + L * 7) % 19)) % 20) + 1\n",
        "\n",
        "x_file = str(X).zfill(3) + \".txt\" # file name\n",
        "x_file_content = open(f'..\/resources\/{x_file}').readlines()[1:][0]  # file content\n",
        "x_words = [len(x) for x in x_file_content.split(\" \")] # words lengths array\n",
        "x_words_len = len(x_words) # number of words\n",
        "x_no_space = \"\".join(x_file_content.split(\" \")) # content w\/o spaces\n",
        "x_len = len(x_no_space) # content length\n",
        "x_chars = Counter(x_no_space) # chars count\n",
        "\n",
        "y_file = str(Y).zfill(3) + \".txt\" # file name\n",
        "y_file_content = open(f'..\/resources\/{y_file}').readlines()[1:][0] # file content\n",
        "y_words = [len(x) for x in y_file_content.split(\" \")] # words lengths array\n",
        "y_words_len = len(y_words) # number of words\n",
        "y_no_space = \"\".join(y_file_content.split(\" \")) # content w\/o spaces\n",
        "y_len = len(y_no_space) # content length\n",
        "y_chars = Counter(y_no_space) # chars count"
      ],
      "execution_count":0,
      "outputs":[
        
      ],
      "metadata":{
        
      }
    },
    {
      "cell_type":"markdown",
      "source":[
        "## 1 - Z obou datových souborů načtěte texty k analýze. Pro každý text zvlášť odhadněte základní charakteristiky délek slov, tj. střední hodnotu a rozptyl. Graficky znázorněte rozdělení délek slov."
      ],
      "metadata":{
        
      }
    },
    {
      "cell_type":"code",
      "source":[
        "x_mean = np.mean(x_words)\n",
        "y_mean = np.mean(y_words)\n",
        "x_variance = np.var(x_words)\n",
        "y_variance = np.var(y_words)\n",
        "\n",
        "\n",
        "# graf rozdeleni delek slov\n",
        "def words_length_plot(words_lengths, caption):\n",
        "    fig = plt.figure()\n",
        "    fig.suptitle(f'Words lenght distribution {caption}')\n",
        "    plt.hist(words_lengths, bins='auto', facecolor = 'g', edgecolor = 'black')\n",
        "    plt.xlabel('words lengths')\n",
        "    plt.ylabel('frequency')\n",
        "    plt.grid()\n",
        "    plt.show()"
      ],
      "execution_count":0,
      "outputs":[
        
      ],
      "metadata":{
        
      }
    },
    {
      "cell_type":"code",
      "source":[
        "# 1 - output\n",
        "\n",
        "words_length_plot(x_words, x_file)\n",
        "words_length_plot(y_words, y_file)\n",
        "\n",
        "print(f'mean {x_file} = {x_mean}')\n",
        "print(f'variance {x_file} = {x_variance}')\n",
        "\n",
        "print(f'mean {y_file} = {y_mean}')\n",
        "print(f'variance {y_file} = {y_variance}')"
      ],
      "execution_count":0,
      "outputs":[
        {
          "name":"stdout",
          "text":[
            "mean 017.txt = 4.283464566929134\n",
            "variance 017.txt = 5.069254138508277\n",
            "mean 013.txt = 4.507352941176471\n",
            "variance 013.txt = 6.93376946366782\n"
          ],
          "output_type":"stream"
        },
        {
          "data":{
            "image\/png":"[encoded data removed]"
          },
          "metadata":{
            "image\/png":{
              "width":0,
              "height":0
            }
          },
          "output_type":"display_data"
        }
      ],
      "metadata":{
        
      }
    },
    {
      "cell_type":"markdown",
      "source":[
        "## 2 - Pro každý text zvlášť odhadněte pravděpodobnosti písmen (symbolů mimo mezery), které se v textech vyskytují. Výsledné pravděpodobnosti graficky znázorněte."
      ],
      "metadata":{
        
      }
    },
    {
      "cell_type":"code",
      "source":[
        "# Returns dictionary of char: pst\n",
        "def get_charpst(chars, char_len):\n",
        "    charspst = {}\n",
        "    for char in chars.keys():\n",
        "        char_frequency = chars[char] \/ char_len\n",
        "        charspst[char] = char_frequency\n",
        "    return {k: charspst[k] for k in sorted(charspst.keys())}\n",
        "\n",
        "# Draws a plot sorted by char and a plot sorted by frequency\n",
        "def draw_double_plot(chars, char_len, caption):\n",
        "    fig, axs = plt.subplots(1, 2, figsize=(15, 3))\n",
        "    fig.suptitle(caption)\n",
        "\n",
        "    x_charfreq = get_charpst(chars, char_len)\n",
        "    bar_x_locations = np.arange(len(x_charfreq))\n",
        "\n",
        "    plt.sca(axs[0])\n",
        "    plt.bar(bar_x_locations, x_charfreq.values(), align = 'center')\n",
        "    plt.xticks(bar_x_locations, x_charfreq.keys())\n",
        "    plt.grid()\n",
        "\n",
        "    plt.sca(axs[1])\n",
        "    x_charfreq = dict(sorted(x_charfreq.items(), key=lambda item: item[1], reverse=True))\n",
        "    bar_x_locations = np.arange(len(x_charfreq))\n",
        "    plt.bar(bar_x_locations, x_charfreq.values(), align = 'center')\n",
        "    plt.xticks(bar_x_locations, x_charfreq.keys())\n",
        "    plt.grid()\n",
        "    plt.show()"
      ],
      "execution_count":0,
      "outputs":[
        
      ],
      "metadata":{
        
      }
    },
    {
      "cell_type":"code",
      "source":[
        "# 2 - output\n",
        "\n",
        "draw_double_plot(x_chars, x_len, x_file)\n",
        "draw_double_plot(y_chars, y_len, y_file)"
      ],
      "execution_count":0,
      "outputs":[
        {
          "data":{
            "image\/png":"[encoded data removed]"
          },
          "metadata":{
            "image\/png":{
              "width":0,
              "height":0
            }
          },
          "output_type":"display_data"
        }
      ],
      "metadata":{
        
      }
    },
    {
      "cell_type":"markdown",
      "source":[
        "## 3 - Na hladině významnosti 5% otestujte hypotézu, že rozdělení délek slov nezávisí na tom, o který jde text. Určete také p-hodnotu testu."
      ],
      "metadata":{
        
      }
    },
    {
      "cell_type":"code",
      "source":[
        "# Contingential table - number of words of different lengths\n",
        "\n",
        "x_words_count = Counter(x_words)\n",
        "y_words_count = Counter(y_words)\n",
        "\n",
        "number_of_different_sizes_words = max(max(x_words_count), max(y_words_count))\n",
        "\n",
        "contingential_table_words = pd.DataFrame([x_words_count, y_words_count], index=[x_file, y_file], columns=range(1, number_of_different_sizes_words + 1)).fillna(0).astype(int)\n",
        "\n",
        "# chi2 - test statistic\n",
        "# p - the p-value of the test\n",
        "# dof - degrees of freedom\n",
        "# expected - the expected frequencies, based on the marginal sums of the table\n",
        "test3_chi2, test3_p, test3_dof, test3_expected = stats.chi2_contingency(contingential_table_words)\n",
        "\n",
        "contingential_table_words"
      ],
      "execution_count":0,
      "outputs":[
        {
          "data":{
            "text\/html":[
              "<div>\n",
              "<style scoped>\n",
              "    .dataframe tbody tr th:only-of-type {\n",
              "        vertical-align: middle;\n",
              "    }\n",
              "\n",
              "    .dataframe tbody tr th {\n",
              "        vertical-align: top;\n",
              "    }\n",
              "\n",
              "    .dataframe thead th {\n",
              "        text-align: right;\n",
              "    }\n",
              "<\/style>\n",
              "<table border=\"1\" class=\"dataframe\">\n",
              "  <thead>\n",
              "    <tr style=\"text-align: right;\">\n",
              "      <th><\/th>\n",
              "      <th>1<\/th>\n",
              "      <th>2<\/th>\n",
              "      <th>3<\/th>\n",
              "      <th>4<\/th>\n",
              "      <th>5<\/th>\n",
              "      <th>6<\/th>\n",
              "      <th>7<\/th>\n",
              "      <th>8<\/th>\n",
              "      <th>9<\/th>\n",
              "      <th>10<\/th>\n",
              "      <th>11<\/th>\n",
              "      <th>12<\/th>\n",
              "      <th>13<\/th>\n",
              "      <th>14<\/th>\n",
              "      <th>15<\/th>\n",
              "    <\/tr>\n",
              "  <\/thead>\n",
              "  <tbody>\n",
              "    <tr>\n",
              "      <th>017.txt<\/th>\n",
              "      <td>44<\/td>\n",
              "      <td>251<\/td>\n",
              "      <td>285<\/td>\n",
              "      <td>216<\/td>\n",
              "      <td>140<\/td>\n",
              "      <td>128<\/td>\n",
              "      <td>81<\/td>\n",
              "      <td>50<\/td>\n",
              "      <td>38<\/td>\n",
              "      <td>20<\/td>\n",
              "      <td>9<\/td>\n",
              "      <td>5<\/td>\n",
              "      <td>3<\/td>\n",
              "      <td>0<\/td>\n",
              "      <td>0<\/td>\n",
              "    <\/tr>\n",
              "    <tr>\n",
              "      <th>013.txt<\/th>\n",
              "      <td>90<\/td>\n",
              "      <td>268<\/td>\n",
              "      <td>242<\/td>\n",
              "      <td>206<\/td>\n",
              "      <td>147<\/td>\n",
              "      <td>106<\/td>\n",
              "      <td>102<\/td>\n",
              "      <td>62<\/td>\n",
              "      <td>63<\/td>\n",
              "      <td>31<\/td>\n",
              "      <td>30<\/td>\n",
              "      <td>8<\/td>\n",
              "      <td>1<\/td>\n",
              "      <td>3<\/td>\n",
              "      <td>1<\/td>\n",
              "    <\/tr>\n",
              "  <\/tbody>\n",
              "<\/table>\n",
              "<\/div>"
            ]
          },
          "metadata":{
            
          },
          "output_type":"display_data"
        }
      ],
      "metadata":{
        
      }
    },
    {
      "cell_type":"code",
      "source":[
        "def plot_contingential_table(table, name1, name2, label_x = '', label_y = ''):\n",
        "    fig, ax = plt.subplots()\n",
        "\n",
        "    ax.bar(table.columns, table.loc[name1], label=name1, alpha=0.5, color='red')\n",
        "    ax.bar(table.columns, table.loc[name2], label=name2, alpha=0.5, color='blue')\n",
        "\n",
        "    ax.set_ylabel(label_y)\n",
        "    ax.set_title(label_x)\n",
        "    ax.legend()\n",
        "\n",
        "    plt.show()\n",
        "\n",
        "plot_contingential_table(contingential_table_words, x_file, y_file, 'Word length', 'Count')"
      ],
      "execution_count":0,
      "outputs":[
        {
          "data":{
            "image\/png":"[encoded data removed]"
          },
          "metadata":{
            "image\/png":{
              "width":0,
              "height":0
            }
          },
          "output_type":"display_data"
        }
      ],
      "metadata":{
        
      }
    },
    {
      "cell_type":"markdown",
      "source":[
        "$ \\alpha = 0,05 $\n",
        "\n",
        "$ H_0 $: Rozdělení délek slov **nezávisí** na tom, o který jde text.\n",
        "\n",
        "$ H_A $: Rozdělení délek slov **závisí** na tom, o který jde text."
      ],
      "metadata":{
        
      }
    },
    {
      "cell_type":"code",
      "source":[
        "test3_alpha = 0.05\n",
        "\n",
        "# percent point function\n",
        "test3_ppf = stats.chi2.ppf(1 - test3_alpha, test3_dof)\n",
        "\n",
        "print(f'test statistic χ² = {test3_chi2:.4g}')\n",
        "print(f'p-value = {test3_p:.4g}')\n",
        "print(f'percent point function = {test3_ppf:.4g}')\n",
        "\n",
        "print()\n",
        "\n",
        "if test3_chi2 < test3_ppf:\n",
        "    print(\"We do not reject hypothesis H_0.\")\n",
        "else:\n",
        "    print(\"We reject hypothesis H_0 in favor of the alternative hypothesis H_A.\")"
      ],
      "execution_count":0,
      "outputs":[
        {
          "name":"stdout",
          "text":[
            "test statistic χ² = 48.57\n",
            "p-value = 1.059e-05\n",
            "percent point function = 23.68\n",
            "\n",
            "We reject hypothesis H_0 in favor of the alternative hypothesis H_A.\n"
          ],
          "output_type":"stream"
        }
      ],
      "metadata":{
        
      }
    },
    {
      "cell_type":"markdown",
      "source":[
        "Byla vytvořena kontingenční tabulka pro délku slov v daných textech.\n",
        "Stanovila se nulová hypotéza $H_0$ `Rozdělení délek slov nezávisí na tom, o který jde text.` oproti alternativní hypotéze $H_A$ `Rozdělení délek slov závisí na tom, o který jde text.`.\n",
        "Pro testování nulové hypotézy byla použita tato kontingenční tabulka.\n",
        "Výsledky ukazují, že nulovou hypotézu $H_0$ zamítáme ve prospěch hypotézy $H_A$.\n",
        "$p$-hodnota testu je `1.059e-05`."
      ],
      "metadata":{
        
      }
    },
    {
      "cell_type":"markdown",
      "source":[
        "## 4 - Na hladině významnosti 5% otestujte hypotézu, že se střední délky slov v obou textech rovnají. Určete také p-hodnotu testu."
      ],
      "metadata":{
        
      }
    },
    {
      "cell_type":"markdown",
      "source":[
        "Testujeme, zda jsou střední hodnoty délky slov shodné proti alternativě, že se nerovnají.\n",
        "Použijeme dvouvýběrový t-test pro různé rozptyly.\n",
        "\n",
        "$ H_0 $: Střední délky slov v obou textech se **rovnají**.\n",
        "\n",
        "$ H_A $: Střední délky slov v obou textech se **nerovnají**.\n",
        "\n",
        "$ \\alpha = 0,05 $"
      ],
      "metadata":{
        
      }
    },
    {
      "cell_type":"code",
      "source":[
        "# Levenuv test rovnosti rozptylu\n",
        "test4roz_stat, test4roz_p = stats.levene(x_words, y_words)\n",
        "\n",
        "# H0 = var1 = var2\n",
        "# HA = var1 != var2\n",
        "test4_equeal_variances = test4roz_p > 0.05\n",
        "\n",
        "print(f'Levene test p value = {test4roz_p}')\n",
        "print(f'Variance is equal = {test4_equeal_variances}')"
      ],
      "execution_count":0,
      "outputs":[
        {
          "name":"stdout",
          "text":[
            "Levene test p value = 4.480337293345598e-07\n",
            "Variance is equal = False\n"
          ],
          "output_type":"stream"
        }
      ],
      "metadata":{
        
      }
    },
    {
      "cell_type":"code",
      "source":[
        "import math\n",
        "\n",
        "test4_alpha = 0.05\n",
        "\n",
        "# statistic - the test statistic.\n",
        "# pvalue - the p-value for the test.\n",
        "test4_statistic, test4_p = stats.ttest_ind(x_words, y_words, equal_var = test4_equeal_variances)\n",
        "\n",
        "x_variance_n = (x_variance\/x_words_len)\n",
        "y_variance_m = (y_variance\/y_words_len)\n",
        "sd = math.sqrt(x_variance_n + y_variance_m)\n",
        "nd = (sd**4) \/ ( ((1\/(x_words_len-1))*(x_variance_n**2)) + ((1\/(y_words_len-1))*(y_variance_m**2)) )\n",
        "q = 1-0.05\/2\n",
        "critical_val = stats.t.ppf(q, nd)\n",
        "\n",
        "print(f'critical value = {critical_val}')\n",
        "print(f'test statistic = {test4_statistic:.4g}')\n",
        "print(f'p-value = {test4_p:.4g}')\n",
        "\n",
        "if abs(test4_statistic) < critical_val:\n",
        "    print('We do not reject hypothesis H_0.')\n",
        "else:\n",
        "    print('We reject hypothesis H_0 in favor of the alternative hypothesis H_A.')"
      ],
      "execution_count":0,
      "outputs":[
        {
          "name":"stdout",
          "text":[
            "critical value = 1.9608740124587043\n",
            "test statistic = -2.347\n",
            "p-value = 0.01898\n",
            "We reject hypothesis H_0 in favor of the alternative hypothesis H_A.\n"
          ],
          "output_type":"stream"
        }
      ],
      "metadata":{
        
      }
    },
    {
      "cell_type":"markdown",
      "source":[
        "Stanovila se nulová hypotéza $H_0$ `Střední délky slov v obou textech se rovnají.` oproti alternativní hypotéze $H_A$ `Střední délky slov v obou textech se nerovnají.`.\n",
        "Pro testování nulové hypotézy byl použit dvouvýběrový ttest, přičemž nejdříve byl proveden Levenův test na shodnost rozptylů.\n",
        "Rozptyly nejsou dle tohoto testu shodné.\n",
        "Následně byl proveden dvouvýběrový ttest, kde výsledky ukazují, že nulovou hypotézu $H_0$ zamítáme ve prospěch hypotézy $H_A$.\n",
        "$p$-hodnota testu je `0.01898`."
      ],
      "metadata":{
        
      }
    },
    {
      "cell_type":"markdown",
      "source":[
        "## 5 - Na hladině významnosti 5% otestujte hypotézu, že rozdělení písmen nezávisí na tom, o který jde text. Určete také p-hodnotu testu."
      ],
      "metadata":{
        
      }
    },
    {
      "cell_type":"code",
      "source":[
        "# Contingential table - letters usage\n",
        "\n",
        "contingential_table_letters = pd.DataFrame([x_chars, y_chars], index=[x_file, y_file]).fillna(0).astype(int)\n",
        "\n",
        "# chi2 - test statistic\n",
        "# p - the p-value of the test\n",
        "# dof - degrees of freedom\n",
        "# expected - the expected frequencies, based on the marginal sums of the table\n",
        "test5_chi2, test5_p, test5_dof, test5_expected = stats.chi2_contingency(contingential_table_letters)\n",
        "\n",
        "contingential_table_letters"
      ],
      "execution_count":0,
      "outputs":[
        {
          "data":{
            "text\/html":[
              "<div>\n",
              "<style scoped>\n",
              "    .dataframe tbody tr th:only-of-type {\n",
              "        vertical-align: middle;\n",
              "    }\n",
              "\n",
              "    .dataframe tbody tr th {\n",
              "        vertical-align: top;\n",
              "    }\n",
              "\n",
              "    .dataframe thead th {\n",
              "        text-align: right;\n",
              "    }\n",
              "<\/style>\n",
              "<table border=\"1\" class=\"dataframe\">\n",
              "  <thead>\n",
              "    <tr style=\"text-align: right;\">\n",
              "      <th><\/th>\n",
              "      <th>t<\/th>\n",
              "      <th>h<\/th>\n",
              "      <th>e<\/th>\n",
              "      <th>a<\/th>\n",
              "      <th>r<\/th>\n",
              "      <th>i<\/th>\n",
              "      <th>s<\/th>\n",
              "      <th>c<\/th>\n",
              "      <th>o<\/th>\n",
              "      <th>f<\/th>\n",
              "      <th>b<\/th>\n",
              "      <th>u<\/th>\n",
              "      <th>l<\/th>\n",
              "      <th>n<\/th>\n",
              "      <th>g<\/th>\n",
              "      <th>v<\/th>\n",
              "      <th>d<\/th>\n",
              "      <th>m<\/th>\n",
              "      <th>w<\/th>\n",
              "      <th>p<\/th>\n",
              "      <th>y<\/th>\n",
              "      <th>k<\/th>\n",
              "      <th>j<\/th>\n",
              "      <th>x<\/th>\n",
              "      <th>q<\/th>\n",
              "      <th>z<\/th>\n",
              "    <\/tr>\n",
              "  <\/thead>\n",
              "  <tbody>\n",
              "    <tr>\n",
              "      <th>017.txt<\/th>\n",
              "      <td>504<\/td>\n",
              "      <td>330<\/td>\n",
              "      <td>657<\/td>\n",
              "      <td>447<\/td>\n",
              "      <td>321<\/td>\n",
              "      <td>382<\/td>\n",
              "      <td>370<\/td>\n",
              "      <td>135<\/td>\n",
              "      <td>431<\/td>\n",
              "      <td>142<\/td>\n",
              "      <td>81<\/td>\n",
              "      <td>183<\/td>\n",
              "      <td>240<\/td>\n",
              "      <td>369<\/td>\n",
              "      <td>109<\/td>\n",
              "      <td>45<\/td>\n",
              "      <td>175<\/td>\n",
              "      <td>143<\/td>\n",
              "      <td>113<\/td>\n",
              "      <td>72<\/td>\n",
              "      <td>123<\/td>\n",
              "      <td>44<\/td>\n",
              "      <td>6<\/td>\n",
              "      <td>12<\/td>\n",
              "      <td>5<\/td>\n",
              "      <td>1<\/td>\n",
              "    <\/tr>\n",
              "    <tr>\n",
              "      <th>013.txt<\/th>\n",
              "      <td>516<\/td>\n",
              "      <td>323<\/td>\n",
              "      <td>819<\/td>\n",
              "      <td>513<\/td>\n",
              "      <td>371<\/td>\n",
              "      <td>471<\/td>\n",
              "      <td>387<\/td>\n",
              "      <td>180<\/td>\n",
              "      <td>420<\/td>\n",
              "      <td>154<\/td>\n",
              "      <td>83<\/td>\n",
              "      <td>150<\/td>\n",
              "      <td>225<\/td>\n",
              "      <td>433<\/td>\n",
              "      <td>113<\/td>\n",
              "      <td>92<\/td>\n",
              "      <td>256<\/td>\n",
              "      <td>195<\/td>\n",
              "      <td>110<\/td>\n",
              "      <td>108<\/td>\n",
              "      <td>157<\/td>\n",
              "      <td>20<\/td>\n",
              "      <td>10<\/td>\n",
              "      <td>11<\/td>\n",
              "      <td>9<\/td>\n",
              "      <td>4<\/td>\n",
              "    <\/tr>\n",
              "  <\/tbody>\n",
              "<\/table>\n",
              "<\/div>"
            ]
          },
          "metadata":{
            
          },
          "output_type":"display_data"
        }
      ],
      "metadata":{
        
      }
    },
    {
      "cell_type":"code",
      "source":[
        "plot_contingential_table(contingential_table_letters, x_file, y_file, 'Letter', 'Count')"
      ],
      "execution_count":0,
      "outputs":[
        {
          "data":{
            "image\/png":"[encoded data removed]"
          },
          "metadata":{
            "image\/png":{
              "width":0,
              "height":0
            }
          },
          "output_type":"display_data"
        }
      ],
      "metadata":{
        
      }
    },
    {
      "cell_type":"markdown",
      "source":[
        "$ \\alpha = 0,05 $\n",
        "\n",
        "$ H_0 $: Rozdělení písmen **nezávisí** na tom, o který jde text.\n",
        "\n",
        "$ H_A $: Rozdělení písmen **závisí** na tom, o který jde text."
      ],
      "metadata":{
        
      }
    },
    {
      "cell_type":"code",
      "source":[
        "test5_alpha = 0.05\n",
        "\n",
        "# percent point function\n",
        "test5_ppf = stats.chi2.ppf(1 - test5_alpha, test5_dof)\n",
        "\n",
        "print(f'test statistic χ² = {test5_chi2:.4g}')\n",
        "print(f'p-value = {test5_p:.4g}')\n",
        "print(f'percent point function = {test5_ppf:.4g}')\n",
        "\n",
        "print()\n",
        "\n",
        "if test5_chi2 < test5_ppf:\n",
        "    print(\"We do not reject hypothesis H_0.\")\n",
        "else:\n",
        "    print(\"We reject hypothesis H_0 in favor of the alternative hypothesis H_A.\")"
      ],
      "execution_count":0,
      "outputs":[
        {
          "name":"stdout",
          "text":[
            "test statistic χ² = 74.65\n",
            "p-value = 7.679e-07\n",
            "percent point function = 37.65\n",
            "\n",
            "We reject hypothesis H_0 in favor of the alternative hypothesis H_A.\n"
          ],
          "output_type":"stream"
        }
      ],
      "metadata":{
        
      }
    },
    {
      "cell_type":"markdown",
      "source":[
        "Byla vytvořena kontingenční tabulka pro rozdělení písmen v daných textech.\n",
        "Stanovila se nulová hypotéza $H_0$ `Rozdělení délek slov nezávisí na tom, o který jde text.` oproti alternativní hypotéze $H_A$ `Rozdělení délek slov závisí na tom, o který jde text.`.\n",
        "Pro testování nulové hypotézy byla použita tato kontingenční tabulka.\n",
        "Výsledky ukazují, že nulovou hypotézu $H_0$ zamítáme ve prospěch hypotézy $H_A$.\n",
        "$p$-hodnota testu je `7.679e-07`."
      ],
      "metadata":{
        
      }
    }
  ],
  "metadata":{
    
  },
  "nbformat":4,
  "nbformat_minor":0
}