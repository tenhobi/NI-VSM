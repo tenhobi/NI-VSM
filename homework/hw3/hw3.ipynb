{
  "cells":[
    {
      "cell_type":"markdown",
      "source":[
        "# NI-VSM HW 3\n",
        "\n",
        "Tým:\n",
        "\n",
        "- Bittner Jan\n",
        "- Bodnárová Radka\n",
        "- Hošková Radka"
      ],
      "metadata":{
        
      }
    },
    {
      "cell_type":"code",
      "source":[
        "from collections import Counter\n",
        "\n",
        "import matplotlib.pyplot as plt\n",
        "import numpy as np\n",
        "from scipy import stats\n",
        "import pandas as pd\n",
        "\n",
        "# HW settings\n",
        "K = 16\n",
        "L = len('Bittner')\n",
        "X = ((K * L * 23) % 20) + 1\n",
        "Y = ((X + ((K * 5 + L * 7) % 19)) % 20) + 1\n",
        "\n",
        "x_file = str(X).zfill(3) + \".txt\" # file name\n",
        "x_file_content = open(f'..\/resources\/{x_file}').readlines()[1:][0].replace(\" \", \"␣\")  # file content\n",
        "x_words = [len(x) for x in x_file_content.split(\"␣\")] # words lengths array\n",
        "x_words_len = len(x_words) # number of words\n",
        "x_len = len(x_file_content) # content length\n",
        "x_chars = Counter(x_file_content) # chars count\n",
        "\n",
        "y_file = str(Y).zfill(3) + \".txt\" # file name\n",
        "y_file_content = open(f'..\/resources\/{y_file}').readlines()[1:][0].replace(\" \", \"␣\") # file content\n",
        "y_words = [len(x) for x in y_file_content.split(\"␣\")] # words lengths array\n",
        "y_words_len = len(y_words) # number of words\n",
        "y_len = len(y_file_content) # content length\n",
        "y_chars = Counter(y_file_content) # chars count"
      ],
      "execution_count":0,
      "outputs":[
        
      ],
      "metadata":{
        
      }
    },
    {
      "cell_type":"markdown",
      "source":[
        "## 1 - Za předpokladu výše odhadněte matici přechodu markovského řetězce pro první text. Pro odhad matice přechodu vizte přednášku 17. Odhadnuté pravděpodobnosti přechodu vhodně graficky znázorněte, např. použitím heatmapy."
      ],
      "metadata":{
        
      }
    },
    {
      "cell_type":"code",
      "source":[
        "# Seznam posloupností znaků.\n",
        "current_list = list(x_file_content)\n",
        "\n",
        "# Seznam posloupností znaků posunut o 1.\n",
        "next_list = list(x_file_content)\n",
        "next_list.pop(0)\n",
        "next_list.append(None)\n",
        "\n",
        "# Dvojice.\n",
        "bigrams = pd.DataFrame({'current': current_list, 'next': next_list, 'placeholder': 1}).head(-1)\n",
        "\n",
        "# Matice přechodu.\n",
        "transition_matrix = bigrams.pivot_table(index='current', columns='next', aggfunc='count').fillna(0).astype(int)\n",
        "transition_matrix \/= transition_matrix.sum(axis=1)[:, np.newaxis]\n",
        "\n",
        "# Vykreslíme heatmapu.\n",
        "plt.figure(figsize=(6, 6))\n",
        "plt.matshow(transition_matrix, fignum=1)\n",
        "plt.colorbar()\n",
        "plt.xticks(range(transition_matrix.shape[1]), [x[1] for x in transition_matrix.columns])\n",
        "plt.yticks(range(transition_matrix.shape[0]), transition_matrix.index)\n",
        "plt.show()"
      ],
      "execution_count":0,
      "outputs":[
        {
          "name":"stderr",
          "text":[
            "<ipython-input-34-c4511e66319a-oGy5x5wXk5B233TWwVKphG>:14: FutureWarning: Support for multi-dimensional indexing (e.g. `obj[:, None]`) is deprecated and will be removed in a future version.  Convert to a numpy array before indexing instead.\n",
            "  transition_matrix \/= transition_matrix.sum(axis=1)[:, np.newaxis]\n"
          ],
          "output_type":"stream"
        },
        {
          "data":{
            "image\/png":"[encoded data removed]"
          },
          "metadata":{
            "image\/png":{
              "width":0,
              "height":0
            }
          },
          "output_type":"display_data"
        }
      ],
      "metadata":{
        
      }
    },
    {
      "cell_type":"markdown",
      "source":[
        "## 2 - Na základě matice z předchozího bodu najděte stacionární rozdělení π tohoto řetězce pro první text."
      ],
      "metadata":{
        
      }
    },
    {
      "cell_type":"code",
      "source":[
        "# Získáme vlastní čísla a vektory.\n",
        "eigen_values, eigen_vectors = np.linalg.eig(transition_matrix.T)\n",
        "\n",
        "v = eigen_vectors[:, np.isclose(eigen_values, 1)]\n",
        "\n",
        "# Normalizujeme.\n",
        "pi = v.real.T\/np.sum(v.real.T, 1)[:, np.newaxis]"
      ],
      "execution_count":0,
      "outputs":[
        
      ],
      "metadata":{
        
      }
    },
    {
      "cell_type":"code",
      "source":[
        "print(\"Stacionární rozdělení π:\\n\", pi[0])"
      ],
      "execution_count":0,
      "outputs":[
        {
          "name":"stdout",
          "text":[
            "Stacionární rozdělení π:\n",
            " [6.66435043e-02 1.20765318e-02 2.01285818e-02 2.60973277e-02 9.79243081e-02 2.11684279e-02 1.62507628e-02 4.91468025e-02 5.69374305e-02 8.94572939e-04 6.55969618e-03 3.57848572e-02 2.13204089e-02 5.50182807e-02 6.42411380e-02 1.07353907e-02 7.45653782e-04 4.78590304e-02 5.51652482e-02 7.49894594e-02 2.72771550e-02 6.71057263e-03 1.68475208e-02 1.79107482e-03 1.83359592e-02 1.49090614e-04 1.89201213e-01]\n"
          ],
          "output_type":"stream"
        }
      ],
      "metadata":{
        
      }
    },
    {
      "cell_type":"code",
      "source":[
        "# Je pi stacionární?\n",
        "np.isclose(pi, pi @ transition_matrix).all()"
      ],
      "execution_count":0,
      "outputs":[
        {
          "data":{
            "text\/plain":[
              "True"
            ]
          },
          "metadata":{
            
          },
          "output_type":"display_data"
        }
      ],
      "metadata":{
        
      }
    },
    {
      "cell_type":"markdown",
      "source":[
        "## 3 - Porovnejte rozdělení znaků druhého textu se stacionárním rozdělením π, tj. na hladině významnosti 5 % otestujte hypotézu, že rozdělení znaků druhého textu se rovná rozdělení π z předchozího bodu."
      ],
      "metadata":{
        
      }
    },
    {
      "cell_type":"markdown",
      "source":[
        "Testujeme, zda se rozdělení znaků druhého textu rovná rozdělení stacionárního rozdělení π na hladině významnosti 5 %.\n",
        "Použijeme $\\chi^2$ test pro testování při známých parametrech.\n",
        "\n",
        "$ H_0 $: Rozdělení znaků se rovná rozdělení π.\n",
        "\n",
        "$ H_A $: Rozdělení znaků se **ne**rovná rozdělení π."
      ],
      "metadata":{
        
      }
    },
    {
      "cell_type":"code",
      "source":[
        "def get_charfreq(chars, char_len):\n",
        "    charspst = {}\n",
        "    for char in chars.keys():\n",
        "        char_frequency = chars[char] \/ char_len\n",
        "        charspst[char] = char_frequency\n",
        "    return {k: charspst[k] for k in sorted(charspst.keys())}\n",
        "\n",
        "y_charfreq = np.array(list(get_charfreq(y_chars, y_len).values()))"
      ],
      "execution_count":0,
      "outputs":[
        
      ],
      "metadata":{
        
      }
    },
    {
      "cell_type":"code",
      "source":[
        "# Počet znaků s příliš malou četností.\n",
        "print(sum(y_charfreq * y_len < 5))\n",
        "print(sum(pi[0] * x_len < 5))\n",
        "\n",
        "# Jejich indexy.\n",
        "a, b = sorted(np.argsort(y_charfreq)[:2])\n",
        "c, d = sorted(np.argsort(pi[0])[:2])\n",
        "print(a, b)\n",
        "print(c, d)\n",
        "\n",
        "# Sloučení.\n",
        "y_charfreq[b] += y_charfreq[a]\n",
        "y_charfreq = np.delete(y_charfreq, a)\n",
        "\n",
        "pix = pi[0]\n",
        "pix[b] += pix[a]\n",
        "pix = np.delete(pix, a)"
      ],
      "execution_count":0,
      "outputs":[
        {
          "name":"stdout",
          "text":[
            "1\n",
            "1\n",
            "16 25\n",
            "16 25\n"
          ],
          "output_type":"stream"
        }
      ],
      "metadata":{
        
      }
    },
    {
      "cell_type":"markdown",
      "source":[
        "Hodnoty frekvencí musí mít četnost alespoň 5, v opačném případě musíme sloučit nejméně frekventované znaky do jedné skupiny.\n",
        "Jak bylo vypozorováno, máme jeden případ, kdy byla četnost 4, proto jsme ji sloučili s druhým nejmeně četným znakem.\n",
        "Dohromady tato skupina již má větší četnost než 5.\n",
        "\n",
        "---\n",
        "\n",
        "Vizte z dokumentace chisquare funkce:\n",
        "\n",
        "> This test is invalid when the observed or expected frequencies in each category are too small. A typical rule is that all of the observed and expected frequencies should be at least 5."
      ],
      "metadata":{
        
      }
    },
    {
      "cell_type":"code",
      "source":[
        "test_alpha = 0.05\n",
        "\n",
        "chi2, pvalue = stats.chisquare(y_charfreq, pix)\n",
        "\n",
        "print(f'test statistic χ² = {chi2:.4g}')\n",
        "print(f'p-value = {pvalue:.4g}')\n",
        "print(f'{pvalue > test_alpha}')"
      ],
      "execution_count":0,
      "outputs":[
        {
          "name":"stdout",
          "text":[
            "test statistic χ² = 0.02227\n",
            "p-value = 1\n",
            "True\n"
          ],
          "output_type":"stream"
        }
      ],
      "metadata":{
        
      }
    },
    {
      "cell_type":"markdown",
      "source":[
        "Stanovily se hypotézy $H_0$ a $H_A$. Z provedených testů vidíme, že hodnota p-value je `1`. Z tohoto důvodu nulovou hypotézu nezamítáme."
      ],
      "metadata":{
        
      }
    }
  ],
  "metadata":{
    
  },
  "nbformat":4,
  "nbformat_minor":0
}